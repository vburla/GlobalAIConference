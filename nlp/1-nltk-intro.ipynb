{
 "cells": [
  {
   "cell_type": "markdown",
   "metadata": {},
   "source": [
    "# Lab : TXT-1: Exploring NLTK\n",
    "\n",
    "## Overview\n",
    "Understand basic text processing and get to know NLTK library\n",
    "\n",
    "## Run time \n",
    "20 min\n",
    "\n",
    "## NLTK\n",
    "We will be using the excellent python text library called NLTK.\n",
    "Here are some references\n",
    "* [NLTK Home](http://www.nltk.org/)\n",
    "* [NLTK book](http://www.nltk.org/book/)\n",
    "* [NLTK data sets](http://www.nltk.org/nltk_data/)\n",
    "* [Accessing NLTK Corpus](http://www.nltk.org/howto/corpus.html)\n",
    "\n",
    "The following exercises will get you familiar with NLTK"
   ]
  },
  {
   "cell_type": "markdown",
   "metadata": {},
   "source": [
    "## Step 1: NLTK\n",
    "Let's make sure NLTK is installed.\n",
    "You can test if NLTK is installed by doing the following."
   ]
  },
  {
   "cell_type": "code",
   "execution_count": 1,
   "metadata": {
    "collapsed": true
   },
   "outputs": [],
   "source": [
    "import nltk\n",
    "# is this working?"
   ]
  },
  {
   "cell_type": "markdown",
   "metadata": {},
   "source": [
    "If not you can install NLTK as follows\n",
    "```bash\n",
    "   $   pip install nltk\n",
    "```"
   ]
  },
  {
   "cell_type": "markdown",
   "metadata": {},
   "source": [
    "## Step 2:  Downloading NLTK Data\n",
    "NLTK library comes with a set of corpus data.  We have downloaded this data already.  It is in `data/nltk_data` directory.\n",
    "If you want to download it you can do so as follows"
   ]
  },
  {
   "cell_type": "code",
   "execution_count": 3,
   "metadata": {},
   "outputs": [],
   "source": [
    "import nltk\n",
    "# nltk.download()\n",
    "# and choose the directory\n",
    "# we will add this dierctory to `nltk.data.path`\n",
    "from os.path import expanduser\n",
    "nltk.data.path.append( expanduser(\"~\") + \"/data/nltk_data\")"
   ]
  },
  {
   "cell_type": "markdown",
   "metadata": {},
   "source": [
    "## Step 3: Exploring NLTK datasets / corpus\n",
    "NLTK ships with lots of data sets.  Here are a few\n",
    "* words\n",
    "* State of the Union\n",
    "* Movie reviews"
   ]
  },
  {
   "cell_type": "markdown",
   "metadata": {},
   "source": [
    "### 3.1 Words\n",
    "English words corpus"
   ]
  },
  {
   "cell_type": "code",
   "execution_count": 4,
   "metadata": {},
   "outputs": [
    {
     "name": "stdout",
     "output_type": "stream",
     "text": [
      "Wordlists\n",
      "\n",
      "en: English, http://en.wikipedia.org/wiki/Words_(Unix)\n",
      "en-basic: 850 English words: C.K. Ogden in The ABC of Basic English (1932)\n",
      "\n"
     ]
    },
    {
     "data": {
      "text/plain": [
       "['A',\n",
       " 'a',\n",
       " 'aa',\n",
       " 'aal',\n",
       " 'aalii',\n",
       " 'aam',\n",
       " 'Aani',\n",
       " 'aardvark',\n",
       " 'aardwolf',\n",
       " 'Aaron']"
      ]
     },
     "execution_count": 4,
     "metadata": {},
     "output_type": "execute_result"
    }
   ],
   "source": [
    "import nltk\n",
    "\n",
    "from os.path import expanduser\n",
    "nltk.data.path.append( expanduser(\"~\") + \"/data/nltk_data\")\n",
    "from nltk.corpus import words\n",
    "\n",
    "print (words.readme())\n",
    "\n",
    "# TODO-2 : Get 'en' words\n",
    "w = words.words('en')\n",
    "\n",
    "## TODO-2 : how many words are there?  \n",
    "## Hint : len(???)\n",
    "len(w)\n",
    "\n",
    "## TODO-2 : Print some words out\n",
    "## Hint : use w[:n] (n is a number)\n",
    "w[:10]\n"
   ]
  },
  {
   "cell_type": "markdown",
   "metadata": {},
   "source": [
    "### 3.2 State of The Union text\n",
    "NLTK has lots of SOTU transcripts.  Try the following"
   ]
  },
  {
   "cell_type": "code",
   "execution_count": 6,
   "metadata": {},
   "outputs": [
    {
     "name": "stdout",
     "output_type": "stream",
     "text": [
      "C-Span State of the Union Address Corpus\n",
      "\n",
      "Annual US presidential addresses 1945-2006\n",
      "\n",
      "http://www.c-span.org/executive/stateoftheunion.asp\n",
      "\n",
      "(Thanks to Kathleen Ahrens for compiling this corpus from\n",
      "the C-Span sources.)\n",
      "\n",
      "\n",
      "----\n",
      "['1945-Truman.txt', '1946-Truman.txt', '1947-Truman.txt', '1948-Truman.txt', '1949-Truman.txt', '1950-Truman.txt', '1951-Truman.txt', '1953-Eisenhower.txt', '1954-Eisenhower.txt', '1955-Eisenhower.txt', '1956-Eisenhower.txt', '1957-Eisenhower.txt', '1958-Eisenhower.txt', '1959-Eisenhower.txt', '1960-Eisenhower.txt', '1961-Kennedy.txt', '1962-Kennedy.txt', '1963-Johnson.txt', '1963-Kennedy.txt', '1964-Johnson.txt', '1965-Johnson-1.txt', '1965-Johnson-2.txt', '1966-Johnson.txt', '1967-Johnson.txt', '1968-Johnson.txt', '1969-Johnson.txt', '1970-Nixon.txt', '1971-Nixon.txt', '1972-Nixon.txt', '1973-Nixon.txt', '1974-Nixon.txt', '1975-Ford.txt', '1976-Ford.txt', '1977-Ford.txt', '1978-Carter.txt', '1979-Carter.txt', '1980-Carter.txt', '1981-Reagan.txt', '1982-Reagan.txt', '1983-Reagan.txt', '1984-Reagan.txt', '1985-Reagan.txt', '1986-Reagan.txt', '1987-Reagan.txt', '1988-Reagan.txt', '1989-Bush.txt', '1990-Bush.txt', '1991-Bush-1.txt', '1991-Bush-2.txt', '1992-Bush.txt', '1993-Clinton.txt', '1994-Clinton.txt', '1995-Clinton.txt', '1996-Clinton.txt', '1997-Clinton.txt', '1998-Clinton.txt', '1999-Clinton.txt', '2000-Clinton.txt', '2001-GWBush-1.txt', '2001-GWBush-2.txt', '2002-GWBush.txt', '2003-GWBush.txt', '2004-GWBush.txt', '2005-GWBush.txt', '2006-GWBush.txt']\n",
      "----\n",
      "PRESIDENT GEORGE W. BUSH'S ADDRESS BEFORE A JOINT SESSION OF THE CONGRESS ON THE STATE OF THE UNION\n",
      " \n",
      "January 31, 2006\n",
      "\n",
      "THE PRESIDENT: Thank you all. Mr. Speaker, Vice President Cheney, members of Congress, members of the Supreme Court and diplomatic corps, distinguished guests, and fellow citizens: Today our nation lost a beloved, graceful, courageous woman who called America to its founding ideals and carried on a noble dream. Tonight we are comforted by the hope of a glad reunion with the husband who was taken so long ago, and we are grateful for the good life of Coretta Scott King. (Applause.)\n",
      "\n",
      "President George W. Bush reacts to applause during his State of the Union Address at the Capitol, Tuesday, Jan. 31, 2006. White House photo by Eric DraperEvery time I'm invited to this rostrum, I'm humbled by the privilege, and mindful of the history we've seen together. We have gathered under this Capitol dome in moments of national mourning and national achievement. We have served America through one of the most consequential periods of our history -- and it has been my honor to serve with you.\n",
      "\n",
      "In a system of two parties, two chambers, and two elected branches, there will always be differences and debate. But even tough debates can be conducted in a civil tone, and our differences cannot be allowed to harden into anger. To confront the great issues before us, we must act in a spirit of goodwill and respect for one another -- and I will do my part. Tonight the state of our Union is strong -- and together we will make it stronger. (Applause.)\n",
      "\n",
      "In this decisive year, you and I will make choices that determine both the future and the character of our country. We will choose to act confidently in pursuing the enemies of freedom -- or retreat from our duties in the hope of an easier life. We will choose to build our prosperity by leading the world economy -- or shut ourselves off from trade and opportunity. In a complex and challenging time, the road of isolationism and protectionism may seem broad and inviting -- yet it ends in danger and decline. The only way to protect our people, the only way to secure the peace, the only way to control our destiny is by our leadership -- so the United States of America will continue to lead. (Applause.)\n",
      "\n",
      "Abroad, our nation is committed to an historic, long-term goal -- we seek the end of tyranny in our world. Some dismiss that goal as misguided idealism. In reality, the future security of America depends on it. On September the 11th, 2001, we found that problems originating in a failed and oppressive state 7,000 miles away could bring murder and destruction to our country. Dictatorships shelter terrorists, and feed resentment and radicalism, and seek weapons of mass destruction. Democracies replace resentment with hope, respect the rights of their citizens and their neighbors, and join the fight against terror. Every step toward freedom in the world makes our country safer -- so we will act boldly in freedom's cause. (Applause.)\n",
      "\n",
      "Far from being a hopeless dream, the advance of freedom is the great story of our time. In 1945, there were about two dozen lonely democracies in the world. Today, there are 122. And we're writing a new chapter in the story of self-government -- with women lining up to vote in Afghanistan, and millions of Iraqis marking their liberty with purple ink, and men and women from Lebanon to Egypt debating the rights of individuals and the necessity of freedom. At the start of 2006, more than half the people of our world live in democratic nations. And we do not forget the other half -- in places like Syria and Burma, Zimbabwe, North Korea, and Iran -- because the demands of justice, and the peace of this world, require their freedom, as well. (Applause.)\n",
      "\n",
      "President George W. Bush delivers his State of the Union Address at the Capitol, Tuesday, Jan. 31, 2006. White House photo by Eric Draper No one can deny the success of freedom, but some men rage and fight against it. And one of the main sources of reaction and opposition is radical Islam -- the perversion by a few of a noble faith into an ideology of terror and death. Terrorists like bin Laden are serious about mass murder -- and all of us must take their declared intentions seriously. They seek to impose a heartless system of totalitarian control throughout the Middle East, and arm themselves with weapons of mass murder.\n",
      "\n",
      "Their aim is to seize power in Iraq, and use it as a safe haven to launch attacks against America and the world. Lacking the military strength to challenge us directly, the terrorists have chosen the weapon of fear. When they murder children at a school in Beslan, or blow up commuters in London, or behead a bound captive, the terrorists hope these horrors will break our will, allowing the violent to inherit the Earth. But they have miscalculated: We love our freedom, and we will fight to keep it. (Applause.)\n",
      "\n",
      "In a time of testing, we cannot find security by abandoning our commitments and retreating within our borders. If we were to leave these vicious attackers alone, they would not leave us alone. They would simply move the battlefield to our own shores. There is no peace in retreat. And there is no honor in retreat. By allowing radical Islam to work its will -- by leaving an assaulted world to fend for itself -- we would signal to all that we no longer believe in our own ideals, or even in our own courage. But our enemies and our friends can be certain: The United States will not retreat from the world, and we will never surrender to evil. (Applause.)\n",
      "\n",
      "America rejects the false comfort of isolationism. We are the nation that saved liberty in Europe, and liberated death camps, and helped raise up democracies, and faced down an evil empire. Once again, we accept the call of history to deliver the oppressed and move this world toward peace. We remain on the offensive against terror networks. We have killed or captured many of their leaders -- and for the others, their day will come.\n",
      "\n",
      "President George W. Bush greets members of Congress after his State of the Union Address at the Capitol, Tuesday, Jan. 31, 2006. White House photo by Eric Draper We remain on the offensive in Afghanistan, where a fine President and a National Assembly are fighting terror while building the institutions of a new democracy. We're on the offensive in Iraq, with a clear plan for victory. First, we're helping Iraqis build an inclusive government, so that old resentments will be eased and the insurgency will be marginalized.\n",
      "\n",
      "Second, we're continuing reconstruction efforts, and helping the Iraqi government to fight corruption and build a modern economy, so all Iraqis can experience the benefits of freedom. And, third, we're striking terrorist targets while we train Iraqi forces that are increasingly capable of defeating the enemy. Iraqis are showing their courage every day, and we are proud to be their allies in the cause of freedom. (Applause.)\n",
      "\n",
      "Our work in Iraq is difficult because our enemy is brutal. But that brutality has not stopped the dramatic progress of a new democracy. In less than three years, the nation has gone from dictatorship to liberation, to sovereignty, to a constitution, to national elections. At the same time, our coalition has been relentless in shutting off terrorist infiltration, clearing out insurgent strongholds, and turning over territory to Iraqi security forces. I am confident in our plan for victory; I am confident in the will of the Iraqi people; I am confident in the skill and spirit of our military. Fellow citizens, we are in this fight to win, and we are winning. (Applause.)\n",
      "\n",
      "The road of victory is the road that will take our troops home. As we make progress on the ground, and Iraqi forces increasingly take the lead, we should be able to further decrease our troop levels -- but those decisions will be made by our military commanders, not by politicians in Washington, D.C. (Applause.)\n",
      "\n",
      "Our coalition has learned from our experience in Iraq. We've adjusted our military tactics and changed our approach to reconstruction. Along the way, we have benefitted from responsible criticism and counsel offered by members of Congress of both parties. In the coming year, I will continue to reach out and seek your good advice. Yet, there is a difference between responsible criticism that aims for success, and defeatism that refuses to acknowledge anything but failure. (Applause.) Hindsight alone is not wisdom, and second-guessing is not a strategy. (Applause.)\n",
      "\n",
      "With so much in the balance, those of us in public office have a duty to speak with candor. A sudden withdrawal of our forces from Iraq would abandon our Iraqi allies to death and prison, would put men like bin Laden and Zarqawi in charge of a strategic country, and show that a pledge from America means little. Members of Congress, however we feel about the decisions and debates of the past, our nation has only one option: We must keep our word, defeat our enemies, and stand behind the American military in this vital mission. (Applause.)\n",
      "\n",
      "Laura Bush is applauded as she is introduced Tuesday evening, Jan. 31, 2006 during the State of the Union Address at United States Capitol in Washington. White House photo by Eric Draper Our men and women in uniform are making sacrifices -- and showing a sense of duty stronger than all fear. They know what it's like to fight house to house in a maze of streets, to wear heavy gear in the desert heat, to see a comrade killed by a roadside bomb. And those who know the costs also know the stakes. Marine Staff Sergeant Dan Clay was killed last month fighting in Fallujah. He left behind a letter to his family, but his words could just as well be addressed to every American. Here is what Dan wrote: \"I know what honor is. ... It has been an honor to protect and serve all of you. I faced death with the secure knowledge that you would not have to.... Never falter! Don't hesitate to honor and support those of us who have the honor of protecting that which is worth protecting.\"\n",
      "\n",
      "Staff Sergeant Dan Clay's wife, Lisa, and his mom and dad, Sara Jo and Bud, are with us this evening. Welcome. (Applause.)\n",
      "\n",
      "Our nation is grateful to the fallen, who live in the memory of our country. We're grateful to all who volunteer to wear our nation's uniform -- and as we honor our brave troops, let us never forget the sacrifices of America's military families. (Applause.)\n",
      "\n",
      "Our offensive against terror involves more than military action. Ultimately, the only way to defeat the terrorists is to defeat their dark vision of hatred and fear by offering the hopeful alternative of political freedom and peaceful change. So the United States of America supports democratic reform across the broader Middle East. Elections are vital, but they are only the beginning. Raising up a democracy requires the rule of law, and protection of minorities, and strong, accountable institutions that last longer than a single vote.\n",
      "\n",
      "The great people of Egypt have voted in a multi-party presidential election -- and now their government should open paths of peaceful opposition that will reduce the appeal of radicalism. The Palestinian people have voted in elections. And now the leaders of Hamas must recognize Israel, disarm, reject terrorism, and work for lasting peace. (Applause.) Saudi Arabia has taken the first steps of reform -- now it can offer its people a better future by pressing forward with those efforts. Democracies in the Middle East will not look like our own, because they will reflect the traditions of their own citizens. Yet liberty is the future of every nation in the Middle East, because liberty is the right and hope of all humanity. (Applause.)\n",
      "\n",
      "President George W. Bush waves toward the upper visitors gallery of the House Chamber following his State of the Union remarks Tuesday, Jan. 31, 2006 at the United States Capitol. White House photo by Eric Draper The same is true of Iran, a nation now held hostage by a small clerical elite that is isolating and repressing its people. The regime in that country sponsors terrorists in the Palestinian territories and in Lebanon -- and that must come to an end. (Applause.) The Iranian government is defying the world with its nuclear ambitions, and the nations of the world must not permit the Iranian regime to gain nuclear weapons. (Applause.) America will continue to rally the world to confront these threats.\n",
      "\n",
      "Tonight, let me speak directly to the citizens of Iran: America respects you, and we respect your country. We respect your right to choose your own future and win your own freedom. And our nation hopes one day to be the closest of friends with a free and democratic Iran. (Applause.)\n",
      "\n",
      "To overcome dangers in our world, we must also take the offensive by encouraging economic progress, and fighting disease, and spreading hope in hopeless lands. Isolationism would not only tie our hands in fighting enemies, it would keep us from helping our friends in desperate need. We show compassion abroad because Americans believe in the God-given dignity and worth of a villager with HIV/AIDS, or an infant with malaria, or a refugee fleeing genocide, or a young girl sold into slavery. We also show compassion abroad because regions overwhelmed by poverty, corruption, and despair are sources of terrorism, and organized crime, and human trafficking, and the drug trade.\n",
      "\n",
      "In recent years, you and I have taken unprecedented action to fight AIDS and malaria, expand the education of girls, and reward developing nations that are moving forward with economic and political reform. For people everywhere, the United States is a partner for a better life. Short-changing these efforts would increase the suffering and chaos of our world, undercut our long-term security, and dull the conscience of our country. I urge members of Congress to serve the interests of America by showing the compassion of America.\n",
      "\n",
      "Our country must also remain on the offensive against terrorism here at home. The enemy has not lost the desire or capability to attack us. Fortunately, this nation has superb professionals in law enforcement, intelligence, the military, and homeland security. These men and women are dedicating their lives, protecting us all, and they deserve our support and our thanks. (Applause.) They also deserve the same tools they already use to fight drug trafficking and organized crime -- so I ask you to reauthorize the Patriot Act. (Applause.)\n",
      "\n",
      "It is said that prior to the attacks of September the 11th, our government failed to connect the dots of the conspiracy. We now know that two of the hijackers in the United States placed telephone calls to al Qaeda operatives overseas. But we did not know about their plans until it was too late. So to prevent another attack -- based on authority given to me by the Constitution and by statute -- I have authorized a terrorist surveillance program to aggressively pursue the international communications of suspected al Qaeda operatives and affiliates to and from America. Previous Presidents have used the same constitutional authority I have, and federal courts have approved the use of that authority. Appropriate members of Congress have been kept informed. The terrorist surveillance program has helped prevent terrorist attacks. It remains essential to the security of America. If there are people inside our country who are talking with al Qaeda, we want to know about it, because we will not sit back and wait to be hit again. (Applause.)\n",
      "\n",
      "In all these areas -- from the disruption of terror networks, to victory in Iraq, to the spread of freedom and hope in troubled regions -- we need the support of our friends and allies. To draw that support, we must always be clear in our principles and willing to act. The only alternative to American leadership is a dramatically more dangerous and anxious world. Yet we also choose to lead because it is a privilege to serve the values that gave us birth. American leaders -- from Roosevelt to Truman to Kennedy to Reagan -- rejected isolation and retreat, because they knew that America is always more secure when freedom is on the march.\n",
      "\n",
      "Our own generation is in a long war against a determined enemy -- a war that will be fought by Presidents of both parties, who will need steady bipartisan support from the Congress. And tonight I ask for yours. Together, let us protect our country, support the men and women who defend us, and lead this world toward freedom. (Applause.)\n",
      "\n",
      "Here at home, America also has a great opportunity: We will build the prosperity of our country by strengthening our economic leadership in the world.\n",
      "\n",
      "Our economy is healthy and vigorous, and growing faster than other major industrialized nations. In the last two-and-a-half years, America has created 4.6 million new jobs -- more than Japan and the European Union combined. (Applause.) Even in the face of higher energy prices and natural disasters, the American people have turned in an economic performance that is the envy of the world.\n",
      "\n",
      "The American economy is preeminent, but we cannot afford to be complacent. In a dynamic world economy, we are seeing new competitors, like China and India, and this creates uncertainty, which makes it easier to feed people's fears. So we're seeing some old temptations return. Protectionists want to escape competition, pretending that we can keep our high standard of living while walling off our economy. Others say that the government needs to take a larger role in directing the economy, centralizing more power in Washington and increasing taxes. We hear claims that immigrants are somehow bad for the economy -- even though this economy could not function without them. (Applause.) All these are forms of economic retreat, and they lead in the same direction -- toward a stagnant and second-rate economy.\n",
      "\n",
      "Tonight I will set out a better path: an agenda for a nation that competes with confidence; an agenda that will raise standards of living and generate new jobs. Americans should not fear our economic future, because we intend to shape it.\n",
      "\n",
      "Keeping America competitive begins with keeping our economy growing. And our economy grows when Americans have more of their own money to spend, save, and invest. In the last five years, the tax relief you passed has left $880 billion in the hands of American workers, investors, small businesses, and families -- and they have used it to help produce more than four years of uninterrupted economic growth. (Applause.) Yet the tax relief is set to expire in the next few years. If we do nothing, American families will face a massive tax increase they do not expect and will not welcome. Because America needs more than a temporary expansion, we need more than temporary tax relief. I urge the Congress to act responsibly, and make the tax cuts permanent. (Applause.)\n",
      "\n",
      "Keeping America competitive requires us to be good stewards of tax dollars. Every year of my presidency, we've reduced the growth of non-security discretionary spending, and last year you passed bills that cut this spending. This year my budget will cut it again, and reduce or eliminate more than 140 programs that are performing poorly or not fulfilling essential priorities. By passing these reforms, we will save the American taxpayer another $14 billion next year, and stay on track to cut the deficit in half by 2009. (Applause.)\n",
      "\n",
      "I am pleased that members of Congress are working on earmark reform, because the federal budget has too many special interest projects. (Applause.) And we can tackle this problem together, if you pass the line-item veto. (Applause.)\n",
      "\n",
      "We must also confront the larger challenge of mandatory spending, or entitlements. This year, the first of about 78 million baby boomers turn 60, including two of my Dad's favorite people -- me and President Clinton. (Laughter.) This milestone is more than a personal crisis -- (laughter) -- it is a national challenge. The retirement of the baby boom generation will put unprecedented strains on the federal government. By 2030, spending for Social Security, Medicare and Medicaid alone will be almost 60 percent of the entire federal budget. And that will present future Congresses with impossible choices -- staggering tax increases, immense deficits, or deep cuts in every category of spending. Congress did not act last year on my proposal to save Social Security -- (applause) -- yet the rising cost of entitlements is a problem that is not going away. (Applause.) And every year we fail to act, the situation gets worse.\n",
      "\n",
      "So tonight, I ask you to join me in creating a commission to examine the full impact of baby boom retirements on Social Security, Medicare, and Medicaid. This commission should include members of Congress of both parties, and offer bipartisan solutions. We need to put aside partisan politics and work together and get this problem solved. (Applause.)\n",
      "\n",
      "Keeping America competitive requires us to open more markets for all that Americans make and grow. One out of every five factory jobs in America is related to global trade, and we want people everywhere to buy American. With open markets and a level playing field, no one can out-produce or out-compete the American worker. (Applause.)\n",
      "\n",
      "Keeping America competitive requires an immigration system that upholds our laws, reflects our values, and serves the interests of our economy. Our nation needs orderly and secure borders. (Applause.) To meet this goal, we must have stronger immigration enforcement and border protection. (Applause.) And we must have a rational, humane guest worker program that rejects amnesty, allows temporary jobs for people who seek them legally, and reduces smuggling and crime at the border. (Applause.)\n",
      "\n",
      "Keeping America competitive requires affordable health care. (Applause.) Our government has a responsibility to provide health care for the poor and the elderly, and we are meeting that responsibility. (Applause.) For all Americans -- for all Americans, we must confront the rising cost of care, strengthen the doctor-patient relationship, and help people afford the insurance coverage they need. (Applause.)\n",
      "\n",
      "We will make wider use of electronic records and other health information technology, to help control costs and reduce dangerous medical errors. We will strengthen health savings accounts -- making sure individuals and small business employees can buy insurance with the same advantages that people working for big businesses now get. (Applause.) We will do more to make this coverage portable, so workers can switch jobs without having to worry about losing their health insurance. (Applause.) And because lawsuits are driving many good doctors out of practice -- leaving women in nearly 1,500 American counties without a single OB/GYN -- I ask the Congress to pass medical liability reform this year. (Applause.)\n",
      "\n",
      "Keeping America competitive requires affordable energy. And here we have a serious problem: America is addicted to oil, which is often imported from unstable parts of the world. The best way to break this addiction is through technology. Since 2001, we have spent nearly $10 billion to develop cleaner, cheaper, and more reliable alternative energy sources -- and we are on the threshold of incredible advances.\n",
      "\n",
      "So tonight, I announce the Advanced Energy Initiative -- a 22-percent increase in clean-energy research -- at the Department of Energy, to push for breakthroughs in two vital areas. To change how we power our homes and offices, we will invest more in zero-emission coal-fired plants, revolutionary solar and wind technologies, and clean, safe nuclear energy. (Applause.)\n",
      "\n",
      "We must also change how we power our automobiles. We will increase our research in better batteries for hybrid and electric cars, and in pollution-free cars that run on hydrogen. We'll also fund additional research in cutting-edge methods of producing ethanol, not just from corn, but from wood chips and stalks, or switch grass. Our goal is to make this new kind of ethanol practical and competitive within six years. (Applause.)\n",
      "\n",
      "Breakthroughs on this and other new technologies will help us reach another great goal: to replace more than 75 percent of our oil imports from the Middle East by 2025. (Applause.) By applying the talent and technology of America, this country can dramatically improve our environment, move beyond a petroleum-based economy, and make our dependence on Middle Eastern oil a thing of the past. (Applause.)\n",
      "\n",
      "And to keep America competitive, one commitment is necessary above all: We must continue to lead the world in human talent and creativity. Our greatest advantage in the world has always been our educated, hardworking, ambitious people -- and we're going to keep that edge. Tonight I announce an American Competitiveness Initiative, to encourage innovation throughout our economy, and to give our nation's children a firm grounding in math and science. (Applause.)\n",
      "\n",
      "First, I propose to double the federal commitment to the most critical basic research programs in the physical sciences over the next 10 years. This funding will support the work of America's most creative minds as they explore promising areas such as nanotechnology, supercomputing, and alternative energy sources.\n",
      "\n",
      "Second, I propose to make permanent the research and development tax credit -- (applause) -- to encourage bolder private-sector initiatives in technology. With more research in both the public and private sectors, we will improve our quality of life -- and ensure that America will lead the world in opportunity and innovation for decades to come. (Applause.)\n",
      "\n",
      "Third, we need to encourage children to take more math and science, and to make sure those courses are rigorous enough to compete with other nations. We've made a good start in the early grades with the No Child Left Behind Act, which is raising standards and lifting test scores across our country. Tonight I propose to train 70,000 high school teachers to lead advanced-placement courses in math and science, bring 30,000 math and science professionals to teach in classrooms, and give early help to students who struggle with math, so they have a better chance at good, high-wage jobs. If we ensure that America's children succeed in life, they will ensure that America succeeds in the world. (Applause.)\n",
      "\n",
      "Preparing our nation to compete in the world is a goal that all of us can share. I urge you to support the American Competitiveness Initiative, and together we will show the world what the American people can achieve.\n",
      "\n",
      "America is a great force for freedom and prosperity. Yet our greatness is not measured in power or luxuries, but by who we are and how we treat one another. So we strive to be a compassionate, decent, hopeful society.\n",
      "\n",
      "In recent years, America has become a more hopeful nation. Violent crime rates have fallen to their lowest levels since the 1970s. Welfare cases have dropped by more than half over the past decade. Drug use among youth is down 19 percent since 2001. There are fewer abortions in America than at any point in the last three decades, and the number of children born to teenage mothers has been falling for a dozen years in a row. (Applause.)\n",
      "\n",
      "These gains are evidence of a quiet transformation -- a revolution of conscience, in which a rising generation is finding that a life of personal responsibility is a life of fulfillment. Government has played a role. Wise policies, such as welfare reform and drug education and support for abstinence and adoption have made a difference in the character of our country. And everyone here tonight, Democrat and Republican, has a right to be proud of this record. (Applause.)\n",
      "\n",
      "Yet many Americans, especially parents, still have deep concerns about the direction of our culture, and the health of our most basic institutions. They're concerned about unethical conduct by public officials, and discouraged by activist courts that try to redefine marriage. They worry about children in our society who need direction and love, and about fellow citizens still displaced by natural disaster, and about suffering caused by treatable diseases.\n",
      "\n",
      "As we look at these challenges, we must never give in to the belief that America is in decline, or that our culture is doomed to unravel. The American people know better than that. We have proven the pessimists wrong before -- and we will do it again. (Applause.)\n",
      "\n",
      "A hopeful society depends on courts that deliver equal justice under the law. The Supreme Court now has two superb new members -- new members on its bench: Chief Justice John Roberts and Justice Sam Alito. (Applause.) I thank the Senate for confirming both of them. I will continue to nominate men and women who understand that judges must be servants of the law, and not legislate from the bench. (Applause.)\n",
      "\n",
      "Today marks the official retirement of a very special American. For 24 years of faithful service to our nation, the United States is grateful to Justice Sandra Day O'Connor. (Applause.)\n",
      "\n",
      "A hopeful society has institutions of science and medicine that do not cut ethical corners, and that recognize the matchless value of every life. Tonight I ask you to pass legislation to prohibit the most egregious abuses of medical research: human cloning in all its forms, creating or implanting embryos for experiments, creating human-animal hybrids, and buying, selling, or patenting human embryos. Human life is a gift from our Creator -- and that gift should never be discarded, devalued or put up for sale. (Applause.)\n",
      "\n",
      "A hopeful society expects elected officials to uphold the public trust. (Applause.) Honorable people in both parties are working on reforms to strengthen the ethical standards of Washington -- I support your efforts. Each of us has made a pledge to be worthy of public responsibility -- and that is a pledge we must never forget, never dismiss, and never betray. (Applause.)\n",
      "\n",
      "As we renew the promise of our institutions, let us also show the character of America in our compassion and care for one another.\n",
      "\n",
      "A hopeful society gives special attention to children who lack direction and love. Through the Helping America's Youth Initiative, we are encouraging caring adults to get involved in the life of a child -- and this good work is being led by our First Lady, Laura Bush. (Applause.) This year we will add resources to encourage young people to stay in school, so more of America's youth can raise their sights and achieve their dreams.\n",
      "\n",
      "A hopeful society comes to the aid of fellow citizens in times of suffering and emergency -- and stays at it until they're back on their feet. So far the federal government has committed $85 billion to the people of the Gulf Coast and New Orleans. We're removing debris and repairing highways and rebuilding stronger levees. We're providing business loans and housing assistance. Yet as we meet these immediate needs, we must also address deeper challenges that existed before the storm arrived.\n",
      "\n",
      "In New Orleans and in other places, many of our fellow citizens have felt excluded from the promise of our country. The answer is not only temporary relief, but schools that teach every child, and job skills that bring upward mobility, and more opportunities to own a home and start a business. As we recover from a disaster, let us also work for the day when all Americans are protected by justice, equal in hope, and rich in opportunity. (Applause.)\n",
      "\n",
      "A hopeful society acts boldly to fight diseases like HIV/AIDS, which can be prevented, and treated, and defeated. More than a million Americans live with HIV, and half of all AIDS cases occur among African Americans. I ask Congress to reform and reauthorize the Ryan White Act, and provide new funding to states, so we end the waiting lists for AIDS medicines in America. (Applause.) We will also lead a nationwide effort, working closely with African American churches and faith-based groups, to deliver rapid HIV tests to millions, end the stigma of AIDS, and come closer to the day when there are no new infections in America. (Applause.)\n",
      "\n",
      "Fellow citizens, we've been called to leadership in a period of consequence. We've entered a great ideological conflict we did nothing to invite. We see great changes in science and commerce that will influence all our lives. Sometimes it can seem that history is turning in a wide arc, toward an unknown shore. Yet the destination of history is determined by human action, and every great movement of history comes to a point of choosing.\n",
      "\n",
      "Lincoln could have accepted peace at the cost of disunity and continued slavery. Martin Luther King could have stopped at Birmingham or at Selma, and achieved only half a victory over segregation. The United States could have accepted the permanent division of Europe, and been complicit in the oppression of others. Today, having come far in our own historical journey, we must decide: Will we turn back, or finish well?\n",
      "\n",
      "Before history is written down in books, it is written in courage. Like Americans before us, we will show that courage and we will finish well. We will lead freedom's advance. We will compete and excel in the global economy. We will renew the defining moral commitments of this land. And so we move forward -- optimistic about our country, faithful to its cause, and confident of the victories to come.\n",
      "\n",
      "May God bless America. (Applause.)\n",
      "\n",
      "----\n"
     ]
    },
    {
     "ename": "OSError",
     "evalue": "No such file or directory: '/Users/tfox/nltk_data/corpora/state_union/???'",
     "output_type": "error",
     "traceback": [
      "\u001b[0;31m---------------------------------------------------------------------------\u001b[0m",
      "\u001b[0;31mOSError\u001b[0m                                   Traceback (most recent call last)",
      "\u001b[0;32m<ipython-input-6-9f805e76fddf>\u001b[0m in \u001b[0;36m<module>\u001b[0;34m()\u001b[0m\n\u001b[1;32m     18\u001b[0m \u001b[0;34m\u001b[0m\u001b[0m\n\u001b[1;32m     19\u001b[0m \u001b[0;31m## TODO-4 : Extract words for the same speech\u001b[0m\u001b[0;34m\u001b[0m\u001b[0;34m\u001b[0m\u001b[0m\n\u001b[0;32m---> 20\u001b[0;31m \u001b[0mgw2006_words\u001b[0m \u001b[0;34m=\u001b[0m \u001b[0mstate_union\u001b[0m\u001b[0;34m.\u001b[0m\u001b[0mwords\u001b[0m\u001b[0;34m(\u001b[0m\u001b[0;34m'???'\u001b[0m\u001b[0;34m)\u001b[0m\u001b[0;34m\u001b[0m\u001b[0m\n\u001b[0m\u001b[1;32m     21\u001b[0m \u001b[0;34m\u001b[0m\u001b[0m\n\u001b[1;32m     22\u001b[0m \u001b[0;31m## TODO-5 : Print first 50 words of the speech\u001b[0m\u001b[0;34m\u001b[0m\u001b[0;34m\u001b[0m\u001b[0m\n",
      "\u001b[0;32m//anaconda/lib/python3.5/site-packages/nltk/corpus/reader/plaintext.py\u001b[0m in \u001b[0;36mwords\u001b[0;34m(self, fileids)\u001b[0m\n\u001b[1;32m     87\u001b[0m         return concat([self.CorpusView(path, self._read_word_block, encoding=enc)\n\u001b[1;32m     88\u001b[0m                        \u001b[0;32mfor\u001b[0m \u001b[0;34m(\u001b[0m\u001b[0mpath\u001b[0m\u001b[0;34m,\u001b[0m \u001b[0menc\u001b[0m\u001b[0;34m,\u001b[0m \u001b[0mfileid\u001b[0m\u001b[0;34m)\u001b[0m\u001b[0;34m\u001b[0m\u001b[0m\n\u001b[0;32m---> 89\u001b[0;31m                        in self.abspaths(fileids, True, True)])\n\u001b[0m\u001b[1;32m     90\u001b[0m \u001b[0;34m\u001b[0m\u001b[0m\n\u001b[1;32m     91\u001b[0m     \u001b[0;32mdef\u001b[0m \u001b[0msents\u001b[0m\u001b[0;34m(\u001b[0m\u001b[0mself\u001b[0m\u001b[0;34m,\u001b[0m \u001b[0mfileids\u001b[0m\u001b[0;34m=\u001b[0m\u001b[0;32mNone\u001b[0m\u001b[0;34m)\u001b[0m\u001b[0;34m:\u001b[0m\u001b[0;34m\u001b[0m\u001b[0m\n",
      "\u001b[0;32m//anaconda/lib/python3.5/site-packages/nltk/corpus/reader/api.py\u001b[0m in \u001b[0;36mabspaths\u001b[0;34m(self, fileids, include_encoding, include_fileid)\u001b[0m\n\u001b[1;32m    188\u001b[0m             \u001b[0mfileids\u001b[0m \u001b[0;34m=\u001b[0m \u001b[0;34m[\u001b[0m\u001b[0mfileids\u001b[0m\u001b[0;34m]\u001b[0m\u001b[0;34m\u001b[0m\u001b[0m\n\u001b[1;32m    189\u001b[0m \u001b[0;34m\u001b[0m\u001b[0m\n\u001b[0;32m--> 190\u001b[0;31m         \u001b[0mpaths\u001b[0m \u001b[0;34m=\u001b[0m \u001b[0;34m[\u001b[0m\u001b[0mself\u001b[0m\u001b[0;34m.\u001b[0m\u001b[0m_root\u001b[0m\u001b[0;34m.\u001b[0m\u001b[0mjoin\u001b[0m\u001b[0;34m(\u001b[0m\u001b[0mf\u001b[0m\u001b[0;34m)\u001b[0m \u001b[0;32mfor\u001b[0m \u001b[0mf\u001b[0m \u001b[0;32min\u001b[0m \u001b[0mfileids\u001b[0m\u001b[0;34m]\u001b[0m\u001b[0;34m\u001b[0m\u001b[0m\n\u001b[0m\u001b[1;32m    191\u001b[0m \u001b[0;34m\u001b[0m\u001b[0m\n\u001b[1;32m    192\u001b[0m         \u001b[0;32mif\u001b[0m \u001b[0minclude_encoding\u001b[0m \u001b[0;32mand\u001b[0m \u001b[0minclude_fileid\u001b[0m\u001b[0;34m:\u001b[0m\u001b[0;34m\u001b[0m\u001b[0m\n",
      "\u001b[0;32m//anaconda/lib/python3.5/site-packages/nltk/corpus/reader/api.py\u001b[0m in \u001b[0;36m<listcomp>\u001b[0;34m(.0)\u001b[0m\n\u001b[1;32m    188\u001b[0m             \u001b[0mfileids\u001b[0m \u001b[0;34m=\u001b[0m \u001b[0;34m[\u001b[0m\u001b[0mfileids\u001b[0m\u001b[0;34m]\u001b[0m\u001b[0;34m\u001b[0m\u001b[0m\n\u001b[1;32m    189\u001b[0m \u001b[0;34m\u001b[0m\u001b[0m\n\u001b[0;32m--> 190\u001b[0;31m         \u001b[0mpaths\u001b[0m \u001b[0;34m=\u001b[0m \u001b[0;34m[\u001b[0m\u001b[0mself\u001b[0m\u001b[0;34m.\u001b[0m\u001b[0m_root\u001b[0m\u001b[0;34m.\u001b[0m\u001b[0mjoin\u001b[0m\u001b[0;34m(\u001b[0m\u001b[0mf\u001b[0m\u001b[0;34m)\u001b[0m \u001b[0;32mfor\u001b[0m \u001b[0mf\u001b[0m \u001b[0;32min\u001b[0m \u001b[0mfileids\u001b[0m\u001b[0;34m]\u001b[0m\u001b[0;34m\u001b[0m\u001b[0m\n\u001b[0m\u001b[1;32m    191\u001b[0m \u001b[0;34m\u001b[0m\u001b[0m\n\u001b[1;32m    192\u001b[0m         \u001b[0;32mif\u001b[0m \u001b[0minclude_encoding\u001b[0m \u001b[0;32mand\u001b[0m \u001b[0minclude_fileid\u001b[0m\u001b[0;34m:\u001b[0m\u001b[0;34m\u001b[0m\u001b[0m\n",
      "\u001b[0;32m//anaconda/lib/python3.5/site-packages/nltk/data.py\u001b[0m in \u001b[0;36mjoin\u001b[0;34m(self, fileid)\u001b[0m\n\u001b[1;32m    320\u001b[0m     \u001b[0;32mdef\u001b[0m \u001b[0mjoin\u001b[0m\u001b[0;34m(\u001b[0m\u001b[0mself\u001b[0m\u001b[0;34m,\u001b[0m \u001b[0mfileid\u001b[0m\u001b[0;34m)\u001b[0m\u001b[0;34m:\u001b[0m\u001b[0;34m\u001b[0m\u001b[0m\n\u001b[1;32m    321\u001b[0m         \u001b[0m_path\u001b[0m \u001b[0;34m=\u001b[0m \u001b[0mos\u001b[0m\u001b[0;34m.\u001b[0m\u001b[0mpath\u001b[0m\u001b[0;34m.\u001b[0m\u001b[0mjoin\u001b[0m\u001b[0;34m(\u001b[0m\u001b[0mself\u001b[0m\u001b[0;34m.\u001b[0m\u001b[0m_path\u001b[0m\u001b[0;34m,\u001b[0m \u001b[0mfileid\u001b[0m\u001b[0;34m)\u001b[0m\u001b[0;34m\u001b[0m\u001b[0m\n\u001b[0;32m--> 322\u001b[0;31m         \u001b[0;32mreturn\u001b[0m \u001b[0mFileSystemPathPointer\u001b[0m\u001b[0;34m(\u001b[0m\u001b[0m_path\u001b[0m\u001b[0;34m)\u001b[0m\u001b[0;34m\u001b[0m\u001b[0m\n\u001b[0m\u001b[1;32m    323\u001b[0m \u001b[0;34m\u001b[0m\u001b[0m\n\u001b[1;32m    324\u001b[0m     \u001b[0;32mdef\u001b[0m \u001b[0m__repr__\u001b[0m\u001b[0;34m(\u001b[0m\u001b[0mself\u001b[0m\u001b[0;34m)\u001b[0m\u001b[0;34m:\u001b[0m\u001b[0;34m\u001b[0m\u001b[0m\n",
      "\u001b[0;32m//anaconda/lib/python3.5/site-packages/nltk/compat.py\u001b[0m in \u001b[0;36m_decorator\u001b[0;34m(*args, **kwargs)\u001b[0m\n\u001b[1;32m    558\u001b[0m     \u001b[0;32mdef\u001b[0m \u001b[0m_decorator\u001b[0m\u001b[0;34m(\u001b[0m\u001b[0;34m*\u001b[0m\u001b[0margs\u001b[0m\u001b[0;34m,\u001b[0m \u001b[0;34m**\u001b[0m\u001b[0mkwargs\u001b[0m\u001b[0;34m)\u001b[0m\u001b[0;34m:\u001b[0m\u001b[0;34m\u001b[0m\u001b[0m\n\u001b[1;32m    559\u001b[0m         \u001b[0margs\u001b[0m \u001b[0;34m=\u001b[0m \u001b[0;34m(\u001b[0m\u001b[0margs\u001b[0m\u001b[0;34m[\u001b[0m\u001b[0;36m0\u001b[0m\u001b[0;34m]\u001b[0m\u001b[0;34m,\u001b[0m \u001b[0madd_py3_data\u001b[0m\u001b[0;34m(\u001b[0m\u001b[0margs\u001b[0m\u001b[0;34m[\u001b[0m\u001b[0;36m1\u001b[0m\u001b[0;34m]\u001b[0m\u001b[0;34m)\u001b[0m\u001b[0;34m)\u001b[0m \u001b[0;34m+\u001b[0m \u001b[0margs\u001b[0m\u001b[0;34m[\u001b[0m\u001b[0;36m2\u001b[0m\u001b[0;34m:\u001b[0m\u001b[0;34m]\u001b[0m\u001b[0;34m\u001b[0m\u001b[0m\n\u001b[0;32m--> 560\u001b[0;31m         \u001b[0;32mreturn\u001b[0m \u001b[0minit_func\u001b[0m\u001b[0;34m(\u001b[0m\u001b[0;34m*\u001b[0m\u001b[0margs\u001b[0m\u001b[0;34m,\u001b[0m \u001b[0;34m**\u001b[0m\u001b[0mkwargs\u001b[0m\u001b[0;34m)\u001b[0m\u001b[0;34m\u001b[0m\u001b[0m\n\u001b[0m\u001b[1;32m    561\u001b[0m     \u001b[0;32mreturn\u001b[0m \u001b[0mwraps\u001b[0m\u001b[0;34m(\u001b[0m\u001b[0minit_func\u001b[0m\u001b[0;34m)\u001b[0m\u001b[0;34m(\u001b[0m\u001b[0m_decorator\u001b[0m\u001b[0;34m)\u001b[0m\u001b[0;34m\u001b[0m\u001b[0m\n\u001b[1;32m    562\u001b[0m \u001b[0;34m\u001b[0m\u001b[0m\n",
      "\u001b[0;32m//anaconda/lib/python3.5/site-packages/nltk/data.py\u001b[0m in \u001b[0;36m__init__\u001b[0;34m(self, _path)\u001b[0m\n\u001b[1;32m    298\u001b[0m         \u001b[0m_path\u001b[0m \u001b[0;34m=\u001b[0m \u001b[0mos\u001b[0m\u001b[0;34m.\u001b[0m\u001b[0mpath\u001b[0m\u001b[0;34m.\u001b[0m\u001b[0mabspath\u001b[0m\u001b[0;34m(\u001b[0m\u001b[0m_path\u001b[0m\u001b[0;34m)\u001b[0m\u001b[0;34m\u001b[0m\u001b[0m\n\u001b[1;32m    299\u001b[0m         \u001b[0;32mif\u001b[0m \u001b[0;32mnot\u001b[0m \u001b[0mos\u001b[0m\u001b[0;34m.\u001b[0m\u001b[0mpath\u001b[0m\u001b[0;34m.\u001b[0m\u001b[0mexists\u001b[0m\u001b[0;34m(\u001b[0m\u001b[0m_path\u001b[0m\u001b[0;34m)\u001b[0m\u001b[0;34m:\u001b[0m\u001b[0;34m\u001b[0m\u001b[0m\n\u001b[0;32m--> 300\u001b[0;31m             \u001b[0;32mraise\u001b[0m \u001b[0mIOError\u001b[0m\u001b[0;34m(\u001b[0m\u001b[0;34m'No such file or directory: %r'\u001b[0m \u001b[0;34m%\u001b[0m \u001b[0m_path\u001b[0m\u001b[0;34m)\u001b[0m\u001b[0;34m\u001b[0m\u001b[0m\n\u001b[0m\u001b[1;32m    301\u001b[0m         \u001b[0mself\u001b[0m\u001b[0;34m.\u001b[0m\u001b[0m_path\u001b[0m \u001b[0;34m=\u001b[0m \u001b[0m_path\u001b[0m\u001b[0;34m\u001b[0m\u001b[0m\n\u001b[1;32m    302\u001b[0m \u001b[0;34m\u001b[0m\u001b[0m\n",
      "\u001b[0;31mOSError\u001b[0m: No such file or directory: '/Users/tfox/nltk_data/corpora/state_union/???'"
     ]
    }
   ],
   "source": [
    "import nltk\n",
    "\n",
    "from os.path import expanduser\n",
    "nltk.data.path.append( expanduser(\"~\") + \"/data/nltk_data\")\n",
    "from nltk.corpus import state_union\n",
    "\n",
    "print(state_union.readme())\n",
    "print(\"----\")\n",
    "\n",
    "## TODO-2 : find all included files\n",
    "print(state_union.fileids())\n",
    "print(\"----\")\n",
    "\n",
    "## TODO-3 : Extract the speech for 2006\n",
    "gw2006 = state_union.raw('2006-GWBush.txt')\n",
    "print (gw2006)\n",
    "print(\"----\")\n",
    "\n",
    "## TODO-4 : Extract words for the same speech\n",
    "gw2006_words = state_union.words('???')\n",
    "\n",
    "## TODO-5 : Print first 50 words of the speech\n",
    "print(gw2006_words[:50])\n",
    "\n",
    "## TODO-6 : Extract sentences\n",
    "gw2006_sents = state_union.sents('???')\n",
    "## Print first 10 sentences\n",
    "print (gw2006_sents[:10])"
   ]
  },
  {
   "cell_type": "markdown",
   "metadata": {},
   "source": [
    "### 3.3 Novels!\n",
    "NLTK includes a bunch of classic novels from [Gutenberg project](http://www.gutenberg.org/)."
   ]
  },
  {
   "cell_type": "code",
   "execution_count": null,
   "metadata": {
    "collapsed": true
   },
   "outputs": [],
   "source": [
    "import nltk\n",
    "from os.path import expanduser\n",
    "nltk.data.path.append( expanduser(\"~\") + \"/data/nltk_data\")\n",
    "from nltk.corpus import gutenberg\n",
    "\n",
    "print (gutenberg.readme())\n",
    "print (gutenberg.fileids())\n",
    "\n",
    "## TODO-1 : Get raw text for Moby Dick (use the fileids output above)\n",
    "moby_dick = gutenberg.raw('???')\n",
    "print (moby_dick[1:1000])\n",
    "\n",
    "## TODO-2 : Get words for Moby Dick\n",
    "moby_dick_words = gutenberg.???('???')\n",
    "## TODO-3 print the number of words (Hint : len)\n",
    "## TODO-4 : print first 100 words\n",
    "\n",
    "## TODO-5 : Count the number of sentences for Shakespear's Hamlet\n",
    "hamlet_senteces = gutenberg.???('???')\n",
    "\n",
    "## TODO-6 print some stats\n",
    "for f in gutenberg.fileids():\n",
    "    name = f\n",
    "    chars = len(gutenberg.raw(f))\n",
    "    words = len(???)\n",
    "    sentences = len(???)\n",
    "    print (f\"{f} :  {chars} chars,   {words} words,  {sentences} sentences\\n\")"
   ]
  },
  {
   "cell_type": "markdown",
   "metadata": {},
   "source": [
    "### 3.4 Explore 'Movie Reviews' Corpus"
   ]
  },
  {
   "cell_type": "code",
   "execution_count": 7,
   "metadata": {},
   "outputs": [
    {
     "name": "stdout",
     "output_type": "stream",
     "text": [
      "Sentiment Polarity Dataset Version 2.0\n",
      "Bo Pang and Lillian Lee\n",
      "\n",
      "http://www.cs.cornell.edu/people/pabo/movie-review-data/\n",
      "\n",
      "Distributed with NLTK with permission from the authors.\n",
      "\n",
      "=======\n",
      "\n",
      "Introduction\n",
      "\n",
      "This README v2.0 (June, 2004) for the v2.0 polarity dataset comes from\n",
      "the URL http://www.cs.cornell.edu/people/pabo/movie-review-data .\n",
      "\n",
      "=======\n",
      "\n",
      "What's New -- June, 2004\n",
      "\n",
      "This dataset represents an enhancement of the review corpus v1.0\n",
      "described in README v1.1: it contains more reviews, and labels were\n",
      "created with an improved rating-extraction system.\n",
      "\n",
      "=======\n",
      "\n",
      "Citation Info \n",
      "\n",
      "This data was first used in Bo Pang and Lillian Lee,\n",
      "``A Sentimental Education: Sentiment Analysis Using Subjectivity Summarization \n",
      "Based on Minimum Cuts'',  Proceedings of the ACL, 2004.\n",
      "\n",
      "@InProceedings{Pang+Lee:04a,\n",
      "  author =       {Bo Pang and Lillian Lee},\n",
      "  title =        {A Sentimental Education: Sentiment Analysis Using Subjectivity Summarization Based on Minimum Cuts},\n",
      "  booktitle =    \"Proceedings of the ACL\",\n",
      "  year =         2004\n",
      "}\n",
      "\n",
      "=======\n",
      "\n",
      "Data Format Summary \n",
      "\n",
      "- review_polarity.tar.gz: contains this readme and  data used in\n",
      "  the experiments described in Pang/Lee ACL 2004.\n",
      "\n",
      "  Specifically:\n",
      "\n",
      "  Within the folder \"txt_sentoken\" are the 2000 processed down-cased\n",
      "  text files used in Pang/Lee ACL 2004; the names of the two\n",
      "  subdirectories in that folder, \"pos\" and \"neg\", indicate the true\n",
      "  classification (sentiment) of the component files according to our\n",
      "  automatic rating classifier (see section \"Rating Decision\" below).\n",
      "\n",
      "  File names consist of a cross-validation tag plus the name of the\n",
      "  original html file.  The ten folds used in the Pang/Lee ACL 2004 paper's\n",
      "  experiments were:\n",
      "\n",
      "     fold 1: files tagged cv000 through cv099, in numerical order\n",
      "     fold 2: files tagged cv100 through cv199, in numerical order     \n",
      "     ...\n",
      "     fold 10: files tagged cv900 through cv999, in numerical order\n",
      "\n",
      "  Hence, the file neg/cv114_19501.txt, for example, was labeled as\n",
      "  negative, served as a member of fold 2, and was extracted from the\n",
      "  file 19501.html in polarity_html.zip (see below).\n",
      "\n",
      "  Each line in each text file corresponds to a single sentence, as\n",
      "  determined by Adwait Ratnaparkhi's sentence boundary detector\n",
      "  MXTERMINATOR.\n",
      " \n",
      "  Preliminary steps were taken to remove rating information from the\n",
      "  text files, but only the rating information upon which the rating\n",
      "  decision was based is guaranteed to have been removed. Thus, if the\n",
      "  original review contains several instances of rating information,\n",
      "  potentially given in different forms, those not recognized as valid\n",
      "  ratings remain part of the review text.\n",
      "\t\n",
      "- polarity_html.zip: The original source files from which the\n",
      "  processed, labeled, and (randomly) selected data in\n",
      "  review_polarity.tar.gz was derived.\n",
      "\n",
      "  Specifically:  \n",
      "\n",
      "  This data consists of unprocessed, unlabeled html files from the\n",
      "  IMDb archive of the rec.arts.movies.reviews newsgroup,\n",
      "  http://reviews.imdb.com/Reviews. The files in review_polarity.tar.gz\n",
      "  represent a processed subset of these files. \n",
      "\n",
      "=======\n",
      "\n",
      "Rating Decision (Appendix A)\n",
      "\n",
      "This section describes how we determined whether a review was positive\n",
      "or negative.\n",
      "\n",
      "The original html files do not have consistent formats -- a review may\n",
      "not have the author's rating with it, and when it does, the rating can\n",
      "appear at different places in the file in different forms.  We only\n",
      "recognize some of the more explicit ratings, which are extracted via a\n",
      "set of ad-hoc rules.  In essence, a file's classification is determined\n",
      "based on the first rating we were able to identify.\n",
      "\n",
      "\n",
      "- In order to obtain more accurate rating decisions, the maximum\n",
      "\trating must be specified explicitly, both for numerical ratings\n",
      "\tand star ratings.  (\"8/10\", \"four out of five\", and \"OUT OF\n",
      "\t****: ***\" are examples of rating indications we recognize.)\n",
      "\n",
      "- With a five-star system (or compatible number systems):\n",
      "\tthree-and-a-half stars and up are considered positive, \n",
      "\ttwo stars and below are considered negative.\n",
      "- With a four-star system (or compatible number system):\n",
      "\tthree stars and up are considered positive, \n",
      "\tone-and-a-half stars and below are considered negative.  \n",
      "- With a letter grade system:\n",
      "\tB or above is considered positive,\n",
      "\tC- or below is considered negative.\n",
      "\n",
      "We attempted to recognize half stars, but they are specified in an\n",
      "especially free way, which makes them difficult to recognize.  Hence,\n",
      "we may lose a half star very occasionally; but this only results in 2.5\n",
      "stars in five star system being categorized as negative, which is \n",
      "still reasonable.\n",
      "\n",
      "\n",
      "\n"
     ]
    }
   ],
   "source": [
    "import nltk\n",
    "\n",
    "from os.path import expanduser\n",
    "nltk.data.path.append( expanduser(\"~\") + \"/data/nltk_data\")\n",
    "from nltk.corpus import movie_reviews\n",
    "\n",
    "print(movie_reviews.readme())\n"
   ]
  },
  {
   "cell_type": "markdown",
   "metadata": {},
   "source": [
    "## Step 4 : Tokenizing Text\n",
    "We are going to use `nltk.tokenize` library to tokenize texts.  There are 3 tokenizers we are goign to test\n",
    "* nltk.tokenize.word_tokenize\n",
    "* nltk.tokenize.wordpunct_tokenize\n",
    "* nltk.tokenize.sent_tokenize\n",
    "\n",
    "Try the following"
   ]
  },
  {
   "cell_type": "code",
   "execution_count": 8,
   "metadata": {},
   "outputs": [
    {
     "name": "stdout",
     "output_type": "stream",
     "text": [
      "text:\n",
      " I went to Starbucks. I bought a latte for $4.50!\n",
      "Yum :-)\n",
      "\n",
      "\n"
     ]
    }
   ],
   "source": [
    "import nltk\n",
    "from nltk.tokenize import word_tokenize\n",
    "from nltk.tokenize import wordpunct_tokenize\n",
    "from nltk.tokenize import sent_tokenize\n",
    "\n",
    "## TODO-1 : check this path\n",
    "from os.path import expanduser\n",
    "nltk.data.path.append( expanduser(\"~\") + \"/data/nltk_data\")\n",
    "\n",
    "text=\"\"\"I went to Starbucks. I bought a latte for $4.50!\n",
    "Yum :-)\n",
    "\"\"\"\n",
    "\n",
    "print(\"text:\\n\", text)\n",
    "print(\"\")"
   ]
  },
  {
   "cell_type": "markdown",
   "metadata": {},
   "source": [
    "## Step 5: Try `sent_tokenize`"
   ]
  },
  {
   "cell_type": "code",
   "execution_count": 14,
   "metadata": {},
   "outputs": [
    {
     "name": "stdout",
     "output_type": "stream",
     "text": [
      "sent_tokenize\n",
      "['I went to Starbucks.', 'I bought a latte for $4.50!', 'Yum :-)\\n']\n",
      "\n"
     ]
    }
   ],
   "source": [
    "print(\"sent_tokenize\")\n",
    "print(sent_tokenize(text))  # sent_tokenize(text)\n",
    "print(\"\")"
   ]
  },
  {
   "cell_type": "markdown",
   "metadata": {},
   "source": [
    "## Step 6: Try `word_tokenize`"
   ]
  },
  {
   "cell_type": "code",
   "execution_count": 13,
   "metadata": {},
   "outputs": [
    {
     "name": "stdout",
     "output_type": "stream",
     "text": [
      "word_tokenize\n",
      "['I', 'went', 'to', 'Starbucks', '.', 'I', 'bought', 'a', 'latte', 'for', '$', '4.50', '!', 'Yum', ':', '-', ')']\n",
      "\n"
     ]
    }
   ],
   "source": [
    "print(\"word_tokenize\")\n",
    "print(word_tokenize(text))\n",
    "print(\"\")"
   ]
  },
  {
   "cell_type": "markdown",
   "metadata": {},
   "source": [
    "## Step 7: Try `wordpunct_tokeinze`"
   ]
  },
  {
   "cell_type": "code",
   "execution_count": 12,
   "metadata": {},
   "outputs": [
    {
     "name": "stdout",
     "output_type": "stream",
     "text": [
      "word_tokenize\n",
      "['I', 'went', 'to', 'Starbucks', '.', 'I', 'bought', 'a', 'latte', 'for', '$', '4', '.', '50', '!', 'Yum', ':-)']\n",
      "\n"
     ]
    }
   ],
   "source": [
    "print(\"word_tokenize\")\n",
    "print(wordpunct_tokenize(text))\n",
    "print(\"\")"
   ]
  },
  {
   "cell_type": "markdown",
   "metadata": {},
   "source": [
    "## Step 8: Compare tokenization outputs from above"
   ]
  }
 ],
 "metadata": {
  "kernelspec": {
   "display_name": "Python 2",
   "language": "python",
   "name": "python2"
  },
  "language_info": {
   "codemirror_mode": {
    "name": "ipython",
    "version": 2
   },
   "file_extension": ".py",
   "mimetype": "text/x-python",
   "name": "python",
   "nbconvert_exporter": "python",
   "pygments_lexer": "ipython2",
   "version": "2.7.14"
  }
 },
 "nbformat": 4,
 "nbformat_minor": 2
}
