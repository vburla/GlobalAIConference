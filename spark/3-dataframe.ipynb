{
 "cells": [
  {
   "cell_type": "markdown",
   "metadata": {},
   "source": [
    "<link rel='stylesheet' href='../assets/css/main.css'/>\n",
    "\n",
    "[<< back to main index](../README.md) \n",
    "\n",
    "Lab 4.1 : Spark SQL : Dataframes\n",
    "================================\n",
    "\n",
    "### Overview\n",
    "First look at Spark SQL\n",
    "\n",
    "### Depends On \n",
    "None\n",
    "\n",
    "### Run time\n",
    "20-30 mins\n"
   ]
  },
  {
   "cell_type": "markdown",
   "metadata": {},
   "source": [
    "----------------------------\n",
    "STEP 2: Load Clickstream data\n",
    "----------------------------"
   ]
  },
  {
   "cell_type": "code",
   "execution_count": null,
   "metadata": {
    "attributes": {
     "classes": [
      "scala"
     ],
     "id": ""
    },
    "collapsed": false
   },
   "outputs": [],
   "source": [
    "clickstreamDF = spark.read.json(\"../data/click-stream/clickstream.json\")"
   ]
  },
  {
   "cell_type": "markdown",
   "metadata": {},
   "source": [
    "**==> Monitor Spark shell UI on port 4040**  \n",
    "You may see something like this:\n",
    "\n",
    "<img src=\"../assets/images/5.1a.png\" style=\"border: 5px solid grey; max-width:100%;\" />\n",
    "\n",
    "**==> Q : Why is Spark not lazy loading the JASON files? **\n",
    "\n",
    "----------------------------\n",
    "STEP 3 : Inspecting The Dataframe\n",
    "----------------------------\n",
    "\n",
    "**==> Print the schema of data frame**     \n",
    "Hint : `clickstreamDF.printSchema`  \n",
    "Your output will look like this:"
   ]
  },
  {
   "cell_type": "code",
   "execution_count": null,
   "metadata": {
    "collapsed": true
   },
   "outputs": [],
   "source": [
    "# TODO: Print the schema\n",
    "\n"
   ]
  },
  {
   "cell_type": "markdown",
   "metadata": {},
   "source": [
    "Your output may look like this:"
   ]
  },
  {
   "cell_type": "markdown",
   "metadata": {
    "attributes": {
     "classes": [
      "console"
     ],
     "id": ""
    },
    "collapsed": true
   },
   "source": [
    "\n",
    "    root\n",
    "     |-- action: string (nullable = true)\n",
    "     |-- campaign: string (nullable = true)\n",
    "     |-- cost: long (nullable = true)\n",
    "     |-- domain: string (nullable = true)\n",
    "     |-- ip: string (nullable = true)\n",
    "     |-- session: string (nullable = true)\n",
    "     |-- timestamp: long (nullable = true)\n",
    "     |-- user: string (nullable = true)"
   ]
  },
  {
   "cell_type": "markdown",
   "metadata": {},
   "source": [
    "**==> Print / Dump the data contained within dataframe**  \n",
    "Hint : `clickstreamDF.show`"
   ]
  },
  {
   "cell_type": "code",
   "execution_count": null,
   "metadata": {
    "collapsed": true
   },
   "outputs": [],
   "source": [
    "# TODO: Print/Dump the data\n",
    "\n"
   ]
  },
  {
   "cell_type": "markdown",
   "metadata": {},
   "source": [
    "Your output may look like this:"
   ]
  },
  {
   "cell_type": "code",
   "execution_count": null,
   "metadata": {
    "attributes": {
     "classes": [
      "console"
     ],
     "id": ""
    },
    "collapsed": true
   },
   "outputs": [],
   "source": [
    "+-------+-----------+----+-----------------+----+----------+-------------+------+\n",
    "| action|   campaign|cost|           domain|  ip|   session|    timestamp|  user|\n",
    "+-------+-----------+----+-----------------+----+----------+-------------+------+\n",
    "|clicked|campaign_19| 118|      youtube.com|ip_4|session_36|1420070400000|user_9|\n",
    "|blocked|campaign_12|   5|     facebook.com|ip_3|session_96|1420070400864|user_5|\n",
    "|clicked| campaign_3|  54|sf.craigslist.org|ip_9|session_61|1420070401728|user_8|\n",
    "...\n",
    "\n",
    "   "
   ]
  },
  {
   "cell_type": "markdown",
   "metadata": {},
   "source": [
    "**==> Explore methods available in Dataframe**  \n",
    "1) Here is the Dataframe API : \n",
    "[Scala](http://spark.apache.org/docs/latest/api/scala/index.html#org.apache.spark.sql.DataFrame)  /\n",
    "[Java](http://spark.apache.org/docs/latest/api/java/org/apache/spark/sql/DataFrame.html) / \n",
    "[Python](http://spark.apache.org/docs/latest/api/python/pyspark.sql.html?highlight=dataframe#pyspark.sql.DataFrame)\n"
   ]
  },
  {
   "cell_type": "markdown",
   "metadata": {},
   "source": [
    "---------------------------------\n",
    "STEP 4 : Querying Dataframe\n",
    "---------------------------------\n",
    "\n",
    "**==> Show only click logs where the cost > 100**"
   ]
  },
  {
   "cell_type": "code",
   "execution_count": null,
   "metadata": {
    "attributes": {
     "classes": [
      "scala"
     ],
     "id": ""
    },
    "collapsed": false,
    "scrolled": true
   },
   "outputs": [],
   "source": [
    "    clickstreamDF.filter(\"cost > 100\").show()\n"
   ]
  },
  {
   "cell_type": "code",
   "execution_count": null,
   "metadata": {
    "collapsed": true
   },
   "outputs": [],
   "source": [
    "    #Same thing\n",
    "    clickstreamDF.filter(clickstreamDF['cost'] > 100).show()\n"
   ]
  },
  {
   "cell_type": "markdown",
   "metadata": {},
   "source": [
    "Sample output"
   ]
  },
  {
   "cell_type": "code",
   "execution_count": null,
   "metadata": {
    "attributes": {
     "classes": [
      "console"
     ],
     "id": ""
    },
    "collapsed": true
   },
   "outputs": [],
   "source": [
    "\n",
    "    +-------+-----------+----+-----------------+----+----------+-------------+------+\n",
    "    | action|   campaign|cost|           domain|  ip|   session|    timestamp|  user|\n",
    "    +-------+-----------+----+-----------------+----+----------+-------------+------+\n",
    "    |clicked|campaign_19| 118|      youtube.com|ip_4|session_36|1420070400000|user_9|\n",
    "    |blocked|campaign_18| 110|    wikipedia.org|ip_5|session_55|1420070402592|user_6|\n",
    "    |blocked| campaign_9| 139|          cnn.com|ip_8|session_13|1420070404320|user_7|"
   ]
  },
  {
   "cell_type": "markdown",
   "metadata": {},
   "source": [
    "**==> Show the logs where action = clicked**  \n",
    "Hint : `clickstreamDF.filter(\"action == '???'\")`  \n"
   ]
  },
  {
   "cell_type": "code",
   "execution_count": null,
   "metadata": {
    "collapsed": true
   },
   "outputs": [],
   "source": [
    "# TODO: show the logs where action = clicked"
   ]
  },
  {
   "cell_type": "markdown",
   "metadata": {},
   "source": [
    "\n",
    "## Step 5 : Do a filter on column type"
   ]
  },
  {
   "cell_type": "markdown",
   "metadata": {},
   "source": [
    "Use `==`"
   ]
  },
  {
   "cell_type": "code",
   "execution_count": null,
   "metadata": {
    "attributes": {
     "classes": [
      "scala"
     ],
     "id": ""
    },
    "collapsed": false,
    "scrolled": true
   },
   "outputs": [],
   "source": [
    "\n",
    "clickstreamDF.filter(clickstreamDF['action'] == 'clicked').show()\n",
    "\n"
   ]
  },
  {
   "cell_type": "markdown",
   "metadata": {},
   "source": [
    "## Step 6 : Count the number of visits from each domain\n",
    "\n",
    "Hint : `g = clickstreamDF.groupBy(\"column_name\")`  \n",
    "* Inspect methods on `g`  (use tab completion)  \n",
    "* Then do `count` on `g`  \n",
    "* Then do a show  \n",
    "* So `clickstreamDF.groupby().count.show`  \n",
    "\n"
   ]
  },
  {
   "cell_type": "code",
   "execution_count": null,
   "metadata": {
    "collapsed": true
   },
   "outputs": [],
   "source": [
    "## TODO: Complete Step 6 Here."
   ]
  },
  {
   "cell_type": "code",
   "execution_count": null,
   "metadata": {
    "collapsed": true
   },
   "outputs": [],
   "source": [
    "## STEP 7 : Joining Dataframes\n",
    "\n",
    "Let's load another data set `domain info`  \n",
    "The data is in   `../data/click-stream/domain-info.json`  \n",
    "The data looks like this:"
   ]
  },
  {
   "cell_type": "markdown",
   "metadata": {
    "attributes": {
     "classes": [
      "console"
     ],
     "id": ""
    },
    "collapsed": true
   },
   "source": [
    "```\n",
    "    {\"domain\":\"amazon.com\",\"category\":\"SHOPPING\"}\n",
    "    {\"domain\":\"bbc.co.uk\",\"category\":\"NEWS\"}\n",
    "    {\"domain\":\"facebook.com\",\"category\":\"SOCIAL\"}\n",
    "    ...\n",
    "```"
   ]
  },
  {
   "cell_type": "markdown",
   "metadata": {},
   "source": [
    "**==> Load the dataframe**"
   ]
  },
  {
   "cell_type": "code",
   "execution_count": null,
   "metadata": {
    "attributes": {
     "classes": [
      "scala"
     ],
     "id": ""
    },
    "collapsed": false
   },
   "outputs": [],
   "source": [
    "\n",
    "domainsDF = spark.read.json(\"../data/click-stream/domain-info.json\")"
   ]
  },
  {
   "cell_type": "markdown",
   "metadata": {},
   "source": [
    "**==> Join both dataframes**"
   ]
  },
  {
   "cell_type": "code",
   "execution_count": null,
   "metadata": {
    "attributes": {
     "classes": [
      "scala"
     ],
     "id": ""
    },
    "collapsed": false
   },
   "outputs": [],
   "source": [
    "\n",
    "joined = clickstreamDF.join(domainsDF,  clickstreamDF[\"domain\"] == domainsDF[\"domain\"])\n",
    "    \n",
    "#see the results\n",
    "joined.show()"
   ]
  },
  {
   "cell_type": "markdown",
   "metadata": {},
   "source": [
    "**==> Inspect the results, here is a sample**"
   ]
  },
  {
   "cell_type": "markdown",
   "metadata": {
    "attributes": {
     "classes": [
      "console"
     ],
     "id": ""
    },
    "collapsed": true
   },
   "source": [
    "```\n",
    "    +-------+-----------+----+-----------------+----+----------+-------------+------+-----------+-----------------+\n",
    "    | action|   campaign|cost|           domain|  ip|   session|    timestamp|  user|   category|           domain|\n",
    "    +-------+-----------+----+-----------------+----+----------+-------------+------+-----------+-----------------+\n",
    "    |clicked|campaign_19| 118|      youtube.com|ip_4|session_36|1420070400000|user_9|      VIDEO|      youtube.com|\n",
    "    |blocked| campaign_2|   7|      youtube.com|ip_2|session_93|1420070412960|user_1|      VIDEO|      youtube.com|\n",
    "    |blocked|campaign_17|  20|       amazon.com|ip_4|session_13|1420070406048|user_1|   SHOPPING|       amazon.com|\n",
    "```"
   ]
  },
  {
   "cell_type": "markdown",
   "metadata": {},
   "source": [
    "**==> Note some rows are missing.  Which ones?  Why?**\n",
    "\n",
    "**==> Do an outer join**    \n",
    "Hint : provide a third argument `outer` to the join statement  \n",
    "e.g  `joinedOuter = clickstreamDF.join(domainsDF,  ......,    \"outer\")`\n"
   ]
  },
  {
   "cell_type": "code",
   "execution_count": null,
   "metadata": {
    "collapsed": true
   },
   "outputs": [],
   "source": [
    "# Complete the TODO:\n",
    "\n",
    "joinedOuter = clickstreamDF.join(domainsDF, ..... \"outer\")\n",
    "joinedOuter.show()"
   ]
  },
  {
   "cell_type": "markdown",
   "metadata": {},
   "source": [
    "**==> Inspect the output, might look like this**\n",
    "**==> Can you explain the null values?**"
   ]
  },
  {
   "cell_type": "markdown",
   "metadata": {
    "attributes": {
     "classes": [
      "console"
     ],
     "id": ""
    },
    "collapsed": true
   },
   "source": [
    "Output:\n",
    "\n",
    "```\n",
    " joinedOuter.show()\n",
    " result ==> \n",
    "``` \n",
    "```\n",
    "    +-------+-----------+----+-----------------+----+----------+-------------+------+-----------+-----------------+\n",
    "    | action|   campaign|cost|           domain|  ip|   session|    timestamp|  user|   category|           domain|\n",
    "    +-------+-----------+----+-----------------+----+----------+-------------+------+-----------+-----------------+\n",
    "    |blocked| campaign_9| 139|          cnn.com|ip_8|session_13|1420070404320|user_7|       null|             null|\n",
    "    |   null|       null|null|             null|null|      null|         null|  null|     SOCIAL|      twitter.com|\n",
    "    |clicked| campaign_6|  15|comedycentral.com|ip_9|session_49|1420070403456|user_4|       null|             null|\n",
    "```"
   ]
  }
 ],
 "metadata": {
  "kernelspec": {
   "display_name": "Python 3",
   "language": "python",
   "name": "python3"
  },
  "language_info": {
   "codemirror_mode": {
    "name": "ipython",
    "version": 3
   },
   "file_extension": ".py",
   "mimetype": "text/x-python",
   "name": "python",
   "nbconvert_exporter": "python",
   "pygments_lexer": "ipython3",
   "version": "3.5.2"
  }
 },
 "nbformat": 4,
 "nbformat_minor": 0
}
